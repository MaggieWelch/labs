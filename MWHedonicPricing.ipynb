{
  "nbformat": 4,
  "nbformat_minor": 0,
  "metadata": {
    "colab": {
      "provenance": [],
      "authorship_tag": "ABX9TyNuZKeo6mCwjo517+coQju4",
      "include_colab_link": true
    },
    "kernelspec": {
      "name": "python3",
      "display_name": "Python 3"
    },
    "language_info": {
      "name": "python"
    }
  },
  "cells": [
    {
      "cell_type": "markdown",
      "metadata": {
        "id": "view-in-github",
        "colab_type": "text"
      },
      "source": [
        "<a href=\"https://colab.research.google.com/github/MaggieWelch/labs/blob/main/MWHedonicPricing.ipynb\" target=\"_parent\"><img src=\"https://colab.research.google.com/assets/colab-badge.svg\" alt=\"Open In Colab\"/></a>"
      ]
    },
    {
      "cell_type": "markdown",
      "source": [
        "# 1. Clean the data and perform some EDA and visualization to get to know the data set"
      ],
      "metadata": {
        "id": "8qk5RdPPmkHd"
      }
    },
    {
      "cell_type": "code",
      "execution_count": 290,
      "metadata": {
        "colab": {
          "base_uri": "https://localhost:8080/",
          "height": 346
        },
        "id": "pr-24hwHmIeP",
        "outputId": "9f2351d0-9def-49dd-f241-9da71d80c314"
      },
      "outputs": [
        {
          "output_type": "stream",
          "name": "stdout",
          "text": [
            "(30478, 13)\n"
          ]
        },
        {
          "output_type": "execute_result",
          "data": {
            "text/plain": [
              "    Host Id Host Since                                Name Neighbourhood   \\\n",
              "0   5162530        NaN     1 Bedroom in Prime Williamsburg       Brooklyn   \n",
              "1  33134899        NaN     Sunny, Private room in Bushwick       Brooklyn   \n",
              "2  39608626        NaN                Sunny Room in Harlem      Manhattan   \n",
              "3       500  6/26/2008  Gorgeous 1 BR with Private Balcony      Manhattan   \n",
              "4       500  6/26/2008            Trendy Times Square Loft      Manhattan   \n",
              "\n",
              "  Property Type  Review Scores Rating (bin)        Room Type  Zipcode  Beds  \\\n",
              "0     Apartment                         NaN  Entire home/apt  11249.0   1.0   \n",
              "1     Apartment                         NaN     Private room  11206.0   1.0   \n",
              "2     Apartment                         NaN     Private room  10032.0   1.0   \n",
              "3     Apartment                         NaN  Entire home/apt  10024.0   3.0   \n",
              "4     Apartment                        95.0     Private room  10036.0   3.0   \n",
              "\n",
              "   Number of Records  Number Of Reviews Price  Review Scores Rating  \n",
              "0                  1                  0   145                   NaN  \n",
              "1                  1                  1    37                   NaN  \n",
              "2                  1                  1    28                   NaN  \n",
              "3                  1                  0   199                   NaN  \n",
              "4                  1                 39   549                  96.0  "
            ],
            "text/html": [
              "\n",
              "  <div id=\"df-8e0a1a10-3115-4d9f-9223-499a086ef907\" class=\"colab-df-container\">\n",
              "    <div>\n",
              "<style scoped>\n",
              "    .dataframe tbody tr th:only-of-type {\n",
              "        vertical-align: middle;\n",
              "    }\n",
              "\n",
              "    .dataframe tbody tr th {\n",
              "        vertical-align: top;\n",
              "    }\n",
              "\n",
              "    .dataframe thead th {\n",
              "        text-align: right;\n",
              "    }\n",
              "</style>\n",
              "<table border=\"1\" class=\"dataframe\">\n",
              "  <thead>\n",
              "    <tr style=\"text-align: right;\">\n",
              "      <th></th>\n",
              "      <th>Host Id</th>\n",
              "      <th>Host Since</th>\n",
              "      <th>Name</th>\n",
              "      <th>Neighbourhood</th>\n",
              "      <th>Property Type</th>\n",
              "      <th>Review Scores Rating (bin)</th>\n",
              "      <th>Room Type</th>\n",
              "      <th>Zipcode</th>\n",
              "      <th>Beds</th>\n",
              "      <th>Number of Records</th>\n",
              "      <th>Number Of Reviews</th>\n",
              "      <th>Price</th>\n",
              "      <th>Review Scores Rating</th>\n",
              "    </tr>\n",
              "  </thead>\n",
              "  <tbody>\n",
              "    <tr>\n",
              "      <th>0</th>\n",
              "      <td>5162530</td>\n",
              "      <td>NaN</td>\n",
              "      <td>1 Bedroom in Prime Williamsburg</td>\n",
              "      <td>Brooklyn</td>\n",
              "      <td>Apartment</td>\n",
              "      <td>NaN</td>\n",
              "      <td>Entire home/apt</td>\n",
              "      <td>11249.0</td>\n",
              "      <td>1.0</td>\n",
              "      <td>1</td>\n",
              "      <td>0</td>\n",
              "      <td>145</td>\n",
              "      <td>NaN</td>\n",
              "    </tr>\n",
              "    <tr>\n",
              "      <th>1</th>\n",
              "      <td>33134899</td>\n",
              "      <td>NaN</td>\n",
              "      <td>Sunny, Private room in Bushwick</td>\n",
              "      <td>Brooklyn</td>\n",
              "      <td>Apartment</td>\n",
              "      <td>NaN</td>\n",
              "      <td>Private room</td>\n",
              "      <td>11206.0</td>\n",
              "      <td>1.0</td>\n",
              "      <td>1</td>\n",
              "      <td>1</td>\n",
              "      <td>37</td>\n",
              "      <td>NaN</td>\n",
              "    </tr>\n",
              "    <tr>\n",
              "      <th>2</th>\n",
              "      <td>39608626</td>\n",
              "      <td>NaN</td>\n",
              "      <td>Sunny Room in Harlem</td>\n",
              "      <td>Manhattan</td>\n",
              "      <td>Apartment</td>\n",
              "      <td>NaN</td>\n",
              "      <td>Private room</td>\n",
              "      <td>10032.0</td>\n",
              "      <td>1.0</td>\n",
              "      <td>1</td>\n",
              "      <td>1</td>\n",
              "      <td>28</td>\n",
              "      <td>NaN</td>\n",
              "    </tr>\n",
              "    <tr>\n",
              "      <th>3</th>\n",
              "      <td>500</td>\n",
              "      <td>6/26/2008</td>\n",
              "      <td>Gorgeous 1 BR with Private Balcony</td>\n",
              "      <td>Manhattan</td>\n",
              "      <td>Apartment</td>\n",
              "      <td>NaN</td>\n",
              "      <td>Entire home/apt</td>\n",
              "      <td>10024.0</td>\n",
              "      <td>3.0</td>\n",
              "      <td>1</td>\n",
              "      <td>0</td>\n",
              "      <td>199</td>\n",
              "      <td>NaN</td>\n",
              "    </tr>\n",
              "    <tr>\n",
              "      <th>4</th>\n",
              "      <td>500</td>\n",
              "      <td>6/26/2008</td>\n",
              "      <td>Trendy Times Square Loft</td>\n",
              "      <td>Manhattan</td>\n",
              "      <td>Apartment</td>\n",
              "      <td>95.0</td>\n",
              "      <td>Private room</td>\n",
              "      <td>10036.0</td>\n",
              "      <td>3.0</td>\n",
              "      <td>1</td>\n",
              "      <td>39</td>\n",
              "      <td>549</td>\n",
              "      <td>96.0</td>\n",
              "    </tr>\n",
              "  </tbody>\n",
              "</table>\n",
              "</div>\n",
              "    <div class=\"colab-df-buttons\">\n",
              "\n",
              "  <div class=\"colab-df-container\">\n",
              "    <button class=\"colab-df-convert\" onclick=\"convertToInteractive('df-8e0a1a10-3115-4d9f-9223-499a086ef907')\"\n",
              "            title=\"Convert this dataframe to an interactive table.\"\n",
              "            style=\"display:none;\">\n",
              "\n",
              "  <svg xmlns=\"http://www.w3.org/2000/svg\" height=\"24px\" viewBox=\"0 -960 960 960\">\n",
              "    <path d=\"M120-120v-720h720v720H120Zm60-500h600v-160H180v160Zm220 220h160v-160H400v160Zm0 220h160v-160H400v160ZM180-400h160v-160H180v160Zm440 0h160v-160H620v160ZM180-180h160v-160H180v160Zm440 0h160v-160H620v160Z\"/>\n",
              "  </svg>\n",
              "    </button>\n",
              "\n",
              "  <style>\n",
              "    .colab-df-container {\n",
              "      display:flex;\n",
              "      gap: 12px;\n",
              "    }\n",
              "\n",
              "    .colab-df-convert {\n",
              "      background-color: #E8F0FE;\n",
              "      border: none;\n",
              "      border-radius: 50%;\n",
              "      cursor: pointer;\n",
              "      display: none;\n",
              "      fill: #1967D2;\n",
              "      height: 32px;\n",
              "      padding: 0 0 0 0;\n",
              "      width: 32px;\n",
              "    }\n",
              "\n",
              "    .colab-df-convert:hover {\n",
              "      background-color: #E2EBFA;\n",
              "      box-shadow: 0px 1px 2px rgba(60, 64, 67, 0.3), 0px 1px 3px 1px rgba(60, 64, 67, 0.15);\n",
              "      fill: #174EA6;\n",
              "    }\n",
              "\n",
              "    .colab-df-buttons div {\n",
              "      margin-bottom: 4px;\n",
              "    }\n",
              "\n",
              "    [theme=dark] .colab-df-convert {\n",
              "      background-color: #3B4455;\n",
              "      fill: #D2E3FC;\n",
              "    }\n",
              "\n",
              "    [theme=dark] .colab-df-convert:hover {\n",
              "      background-color: #434B5C;\n",
              "      box-shadow: 0px 1px 3px 1px rgba(0, 0, 0, 0.15);\n",
              "      filter: drop-shadow(0px 1px 2px rgba(0, 0, 0, 0.3));\n",
              "      fill: #FFFFFF;\n",
              "    }\n",
              "  </style>\n",
              "\n",
              "    <script>\n",
              "      const buttonEl =\n",
              "        document.querySelector('#df-8e0a1a10-3115-4d9f-9223-499a086ef907 button.colab-df-convert');\n",
              "      buttonEl.style.display =\n",
              "        google.colab.kernel.accessAllowed ? 'block' : 'none';\n",
              "\n",
              "      async function convertToInteractive(key) {\n",
              "        const element = document.querySelector('#df-8e0a1a10-3115-4d9f-9223-499a086ef907');\n",
              "        const dataTable =\n",
              "          await google.colab.kernel.invokeFunction('convertToInteractive',\n",
              "                                                    [key], {});\n",
              "        if (!dataTable) return;\n",
              "\n",
              "        const docLinkHtml = 'Like what you see? Visit the ' +\n",
              "          '<a target=\"_blank\" href=https://colab.research.google.com/notebooks/data_table.ipynb>data table notebook</a>'\n",
              "          + ' to learn more about interactive tables.';\n",
              "        element.innerHTML = '';\n",
              "        dataTable['output_type'] = 'display_data';\n",
              "        await google.colab.output.renderOutput(dataTable, element);\n",
              "        const docLink = document.createElement('div');\n",
              "        docLink.innerHTML = docLinkHtml;\n",
              "        element.appendChild(docLink);\n",
              "      }\n",
              "    </script>\n",
              "  </div>\n",
              "\n",
              "\n",
              "<div id=\"df-50e90dba-7ff9-4704-af6a-d0ffdf76b5c2\">\n",
              "  <button class=\"colab-df-quickchart\" onclick=\"quickchart('df-50e90dba-7ff9-4704-af6a-d0ffdf76b5c2')\"\n",
              "            title=\"Suggest charts\"\n",
              "            style=\"display:none;\">\n",
              "\n",
              "<svg xmlns=\"http://www.w3.org/2000/svg\" height=\"24px\"viewBox=\"0 0 24 24\"\n",
              "     width=\"24px\">\n",
              "    <g>\n",
              "        <path d=\"M19 3H5c-1.1 0-2 .9-2 2v14c0 1.1.9 2 2 2h14c1.1 0 2-.9 2-2V5c0-1.1-.9-2-2-2zM9 17H7v-7h2v7zm4 0h-2V7h2v10zm4 0h-2v-4h2v4z\"/>\n",
              "    </g>\n",
              "</svg>\n",
              "  </button>\n",
              "\n",
              "<style>\n",
              "  .colab-df-quickchart {\n",
              "      --bg-color: #E8F0FE;\n",
              "      --fill-color: #1967D2;\n",
              "      --hover-bg-color: #E2EBFA;\n",
              "      --hover-fill-color: #174EA6;\n",
              "      --disabled-fill-color: #AAA;\n",
              "      --disabled-bg-color: #DDD;\n",
              "  }\n",
              "\n",
              "  [theme=dark] .colab-df-quickchart {\n",
              "      --bg-color: #3B4455;\n",
              "      --fill-color: #D2E3FC;\n",
              "      --hover-bg-color: #434B5C;\n",
              "      --hover-fill-color: #FFFFFF;\n",
              "      --disabled-bg-color: #3B4455;\n",
              "      --disabled-fill-color: #666;\n",
              "  }\n",
              "\n",
              "  .colab-df-quickchart {\n",
              "    background-color: var(--bg-color);\n",
              "    border: none;\n",
              "    border-radius: 50%;\n",
              "    cursor: pointer;\n",
              "    display: none;\n",
              "    fill: var(--fill-color);\n",
              "    height: 32px;\n",
              "    padding: 0;\n",
              "    width: 32px;\n",
              "  }\n",
              "\n",
              "  .colab-df-quickchart:hover {\n",
              "    background-color: var(--hover-bg-color);\n",
              "    box-shadow: 0 1px 2px rgba(60, 64, 67, 0.3), 0 1px 3px 1px rgba(60, 64, 67, 0.15);\n",
              "    fill: var(--button-hover-fill-color);\n",
              "  }\n",
              "\n",
              "  .colab-df-quickchart-complete:disabled,\n",
              "  .colab-df-quickchart-complete:disabled:hover {\n",
              "    background-color: var(--disabled-bg-color);\n",
              "    fill: var(--disabled-fill-color);\n",
              "    box-shadow: none;\n",
              "  }\n",
              "\n",
              "  .colab-df-spinner {\n",
              "    border: 2px solid var(--fill-color);\n",
              "    border-color: transparent;\n",
              "    border-bottom-color: var(--fill-color);\n",
              "    animation:\n",
              "      spin 1s steps(1) infinite;\n",
              "  }\n",
              "\n",
              "  @keyframes spin {\n",
              "    0% {\n",
              "      border-color: transparent;\n",
              "      border-bottom-color: var(--fill-color);\n",
              "      border-left-color: var(--fill-color);\n",
              "    }\n",
              "    20% {\n",
              "      border-color: transparent;\n",
              "      border-left-color: var(--fill-color);\n",
              "      border-top-color: var(--fill-color);\n",
              "    }\n",
              "    30% {\n",
              "      border-color: transparent;\n",
              "      border-left-color: var(--fill-color);\n",
              "      border-top-color: var(--fill-color);\n",
              "      border-right-color: var(--fill-color);\n",
              "    }\n",
              "    40% {\n",
              "      border-color: transparent;\n",
              "      border-right-color: var(--fill-color);\n",
              "      border-top-color: var(--fill-color);\n",
              "    }\n",
              "    60% {\n",
              "      border-color: transparent;\n",
              "      border-right-color: var(--fill-color);\n",
              "    }\n",
              "    80% {\n",
              "      border-color: transparent;\n",
              "      border-right-color: var(--fill-color);\n",
              "      border-bottom-color: var(--fill-color);\n",
              "    }\n",
              "    90% {\n",
              "      border-color: transparent;\n",
              "      border-bottom-color: var(--fill-color);\n",
              "    }\n",
              "  }\n",
              "</style>\n",
              "\n",
              "  <script>\n",
              "    async function quickchart(key) {\n",
              "      const quickchartButtonEl =\n",
              "        document.querySelector('#' + key + ' button');\n",
              "      quickchartButtonEl.disabled = true;  // To prevent multiple clicks.\n",
              "      quickchartButtonEl.classList.add('colab-df-spinner');\n",
              "      try {\n",
              "        const charts = await google.colab.kernel.invokeFunction(\n",
              "            'suggestCharts', [key], {});\n",
              "      } catch (error) {\n",
              "        console.error('Error during call to suggestCharts:', error);\n",
              "      }\n",
              "      quickchartButtonEl.classList.remove('colab-df-spinner');\n",
              "      quickchartButtonEl.classList.add('colab-df-quickchart-complete');\n",
              "    }\n",
              "    (() => {\n",
              "      let quickchartButtonEl =\n",
              "        document.querySelector('#df-50e90dba-7ff9-4704-af6a-d0ffdf76b5c2 button');\n",
              "      quickchartButtonEl.style.display =\n",
              "        google.colab.kernel.accessAllowed ? 'block' : 'none';\n",
              "    })();\n",
              "  </script>\n",
              "</div>\n",
              "\n",
              "    </div>\n",
              "  </div>\n"
            ],
            "application/vnd.google.colaboratory.intrinsic+json": {
              "type": "dataframe",
              "variable_name": "df",
              "summary": "{\n  \"name\": \"df\",\n  \"rows\": 30478,\n  \"fields\": [\n    {\n      \"column\": \"Host Id\",\n      \"properties\": {\n        \"dtype\": \"number\",\n        \"std\": 11902702,\n        \"min\": 500,\n        \"max\": 43033067,\n        \"num_unique_values\": 24421,\n        \"samples\": [\n          24093114,\n          16925490,\n          2886652\n        ],\n        \"semantic_type\": \"\",\n        \"description\": \"\"\n      }\n    },\n    {\n      \"column\": \"Host Since\",\n      \"properties\": {\n        \"dtype\": \"date\",\n        \"min\": \"2008-06-26 00:00:00\",\n        \"max\": \"2015-08-31 00:00:00\",\n        \"num_unique_values\": 2240,\n        \"samples\": [\n          \"5/20/2010\",\n          \"7/2/2009\",\n          \"4/18/2015\"\n        ],\n        \"semantic_type\": \"\",\n        \"description\": \"\"\n      }\n    },\n    {\n      \"column\": \"Name\",\n      \"properties\": {\n        \"dtype\": \"string\",\n        \"num_unique_values\": 29413,\n        \"samples\": [\n          \"Explore the beauty of Brooklyn\",\n          \"Sunny Room in Williamsburg Loft\",\n          \"cozy one bedroom in lower east side\"\n        ],\n        \"semantic_type\": \"\",\n        \"description\": \"\"\n      }\n    },\n    {\n      \"column\": \"Neighbourhood \",\n      \"properties\": {\n        \"dtype\": \"category\",\n        \"num_unique_values\": 5,\n        \"samples\": [\n          \"Manhattan\",\n          \"Staten Island\",\n          \"Queens\"\n        ],\n        \"semantic_type\": \"\",\n        \"description\": \"\"\n      }\n    },\n    {\n      \"column\": \"Property Type\",\n      \"properties\": {\n        \"dtype\": \"category\",\n        \"num_unique_values\": 19,\n        \"samples\": [\n          \"Apartment\",\n          \"Condominium\",\n          \"Bungalow\"\n        ],\n        \"semantic_type\": \"\",\n        \"description\": \"\"\n      }\n    },\n    {\n      \"column\": \"Review Scores Rating (bin)\",\n      \"properties\": {\n        \"dtype\": \"number\",\n        \"std\": 9.05951861814779,\n        \"min\": 20.0,\n        \"max\": 100.0,\n        \"num_unique_values\": 15,\n        \"samples\": [\n          40.0,\n          20.0,\n          95.0\n        ],\n        \"semantic_type\": \"\",\n        \"description\": \"\"\n      }\n    },\n    {\n      \"column\": \"Room Type\",\n      \"properties\": {\n        \"dtype\": \"category\",\n        \"num_unique_values\": 3,\n        \"samples\": [\n          \"Entire home/apt\",\n          \"Private room\",\n          \"Shared room\"\n        ],\n        \"semantic_type\": \"\",\n        \"description\": \"\"\n      }\n    },\n    {\n      \"column\": \"Zipcode\",\n      \"properties\": {\n        \"dtype\": \"number\",\n        \"std\": 921.2993969568683,\n        \"min\": 1003.0,\n        \"max\": 99135.0,\n        \"num_unique_values\": 188,\n        \"samples\": [\n          11414.0,\n          11239.0,\n          11365.0\n        ],\n        \"semantic_type\": \"\",\n        \"description\": \"\"\n      }\n    },\n    {\n      \"column\": \"Beds\",\n      \"properties\": {\n        \"dtype\": \"number\",\n        \"std\": 1.0153587174802678,\n        \"min\": 0.0,\n        \"max\": 16.0,\n        \"num_unique_values\": 14,\n        \"samples\": [\n          12.0,\n          16.0,\n          1.0\n        ],\n        \"semantic_type\": \"\",\n        \"description\": \"\"\n      }\n    },\n    {\n      \"column\": \"Number of Records\",\n      \"properties\": {\n        \"dtype\": \"number\",\n        \"std\": 0,\n        \"min\": 1,\n        \"max\": 1,\n        \"num_unique_values\": 1,\n        \"samples\": [\n          1\n        ],\n        \"semantic_type\": \"\",\n        \"description\": \"\"\n      }\n    },\n    {\n      \"column\": \"Number Of Reviews\",\n      \"properties\": {\n        \"dtype\": \"number\",\n        \"std\": 21,\n        \"min\": 0,\n        \"max\": 257,\n        \"num_unique_values\": 205,\n        \"samples\": [\n          171\n        ],\n        \"semantic_type\": \"\",\n        \"description\": \"\"\n      }\n    },\n    {\n      \"column\": \"Price\",\n      \"properties\": {\n        \"dtype\": \"category\",\n        \"num_unique_values\": 511,\n        \"samples\": [\n          \"299\"\n        ],\n        \"semantic_type\": \"\",\n        \"description\": \"\"\n      }\n    },\n    {\n      \"column\": \"Review Scores Rating\",\n      \"properties\": {\n        \"dtype\": \"number\",\n        \"std\": 8.850373136231884,\n        \"min\": 20.0,\n        \"max\": 100.0,\n        \"num_unique_values\": 51,\n        \"samples\": [\n          58.0\n        ],\n        \"semantic_type\": \"\",\n        \"description\": \"\"\n      }\n    }\n  ]\n}"
            }
          },
          "metadata": {},
          "execution_count": 290
        }
      ],
      "source": [
        "import pandas as pd\n",
        "url ='https://raw.githubusercontent.com/DS3001/labs/refs/heads/main/04_hedonic_pricing/airbnb_hw.csv'\n",
        "df = pd.read_csv(url)\n",
        "print(df.shape)\n",
        "df.head()"
      ]
    },
    {
      "cell_type": "code",
      "source": [
        "#dropping columns that are unnessesary to the price, such as host information and ratings\n",
        "columns_to_drop = ['Host Id', 'Host Since','Name', 'Review Scores Rating (bin)', 'Number Of Reviews', 'Review Scores Rating', 'Number of Records']\n",
        "df = df.drop(columns=columns_to_drop)\n",
        "print(df.columns)"
      ],
      "metadata": {
        "colab": {
          "base_uri": "https://localhost:8080/"
        },
        "id": "tHfH396zpU6O",
        "outputId": "c1e59509-f52f-4635-d4f9-f58f85f58bf4"
      },
      "execution_count": 291,
      "outputs": [
        {
          "output_type": "stream",
          "name": "stdout",
          "text": [
            "Index(['Neighbourhood ', 'Property Type', 'Room Type', 'Zipcode', 'Beds',\n",
            "       'Price'],\n",
            "      dtype='object')\n"
          ]
        }
      ]
    },
    {
      "cell_type": "code",
      "source": [
        "#removing unnecessary space after Neighbourhood and renaming it to Neighborhood\n",
        "df.rename(columns={'Neighbourhood ': 'Neighborhood'}, inplace=True)\n",
        "print(df.columns)\n"
      ],
      "metadata": {
        "colab": {
          "base_uri": "https://localhost:8080/"
        },
        "id": "Cw5AG_FdyF-w",
        "outputId": "01cac67c-6034-45f5-c67c-baecb7aed282"
      },
      "execution_count": 292,
      "outputs": [
        {
          "output_type": "stream",
          "name": "stdout",
          "text": [
            "Index(['Neighborhood', 'Property Type', 'Room Type', 'Zipcode', 'Beds',\n",
            "       'Price'],\n",
            "      dtype='object')\n"
          ]
        }
      ]
    },
    {
      "cell_type": "code",
      "source": [
        "print(df.dtypes)"
      ],
      "metadata": {
        "id": "qDV4e9Pa4l8a",
        "outputId": "aa9d66c5-9fda-438f-b7dc-08c6bbd10f78",
        "colab": {
          "base_uri": "https://localhost:8080/"
        }
      },
      "execution_count": 293,
      "outputs": [
        {
          "output_type": "stream",
          "name": "stdout",
          "text": [
            "Neighborhood      object\n",
            "Property Type     object\n",
            "Room Type         object\n",
            "Zipcode          float64\n",
            "Beds             float64\n",
            "Price             object\n",
            "dtype: object\n"
          ]
        }
      ]
    },
    {
      "cell_type": "code",
      "source": [
        "# Remove convert Price to float\n",
        "df['Price'] = df['Price'].replace('[\\$,]', '', regex=True).astype(float)"
      ],
      "metadata": {
        "id": "P7Bm4rKz4tES"
      },
      "execution_count": 294,
      "outputs": []
    },
    {
      "cell_type": "code",
      "source": [
        "#looking for NA inputs\n",
        "print(df.isna().sum())"
      ],
      "metadata": {
        "colab": {
          "base_uri": "https://localhost:8080/"
        },
        "id": "9XKHaTEkrUQE",
        "outputId": "f82a51e9-2073-4fcd-9fef-090f00eca8bf"
      },
      "execution_count": 295,
      "outputs": [
        {
          "output_type": "stream",
          "name": "stdout",
          "text": [
            "Neighborhood       0\n",
            "Property Type      3\n",
            "Room Type          0\n",
            "Zipcode          134\n",
            "Beds              85\n",
            "Price              0\n",
            "dtype: int64\n"
          ]
        }
      ]
    },
    {
      "cell_type": "code",
      "source": [
        "#since there is not a significant amount of NA values, dropping them from df\n",
        "df = df.dropna()\n",
        "print(df.shape)"
      ],
      "metadata": {
        "id": "HG1TO54OKlha",
        "outputId": "2cf76da3-0061-482e-b5bb-7efb1c425783",
        "colab": {
          "base_uri": "https://localhost:8080/"
        }
      },
      "execution_count": 296,
      "outputs": [
        {
          "output_type": "stream",
          "name": "stdout",
          "text": [
            "(30257, 6)\n"
          ]
        }
      ]
    },
    {
      "cell_type": "code",
      "source": [
        "#Organizing price data for EDA box plot to understand general trends preanalysis\n",
        "print(df['Price'].min())\n",
        "print(df['Price'].max())"
      ],
      "metadata": {
        "id": "NguBU-cq4ICI",
        "outputId": "cbc878d1-6cf3-4ae8-c3f9-de490729d014",
        "colab": {
          "base_uri": "https://localhost:8080/"
        }
      },
      "execution_count": 297,
      "outputs": [
        {
          "output_type": "stream",
          "name": "stdout",
          "text": [
            "10.0\n",
            "10000.0\n"
          ]
        }
      ]
    },
    {
      "cell_type": "code",
      "source": [
        "import pandas as pd\n",
        "\n",
        "# Define bins as floats and create labels\n",
        "bins = [10 + i * 100 for i in range(11)]  # Creates 10 bins: $10, $110, $210, ..., $910, $1000\n",
        "labels = [f\"${bins[i]} - ${bins[i+1]}\" for i in range(len(bins) - 1)]\n",
        "\n",
        "# Bin the 'price' variable\n",
        "df['price_bin'] = pd.cut(df['Price'], bins=bins, labels=labels, include_lowest=True)\n",
        "\n",
        "# Display the first few rows with the new 'price_bin' column\n",
        "print(df[['Price', 'price_bin']].head())\n"
      ],
      "metadata": {
        "id": "pAvCvixdGE3M",
        "outputId": "d91cef31-9ed0-4806-d6c7-17c81186683f",
        "colab": {
          "base_uri": "https://localhost:8080/"
        }
      },
      "execution_count": 298,
      "outputs": [
        {
          "output_type": "stream",
          "name": "stdout",
          "text": [
            "   Price    price_bin\n",
            "0  145.0  $110 - $210\n",
            "1   37.0   $10 - $110\n",
            "2   28.0   $10 - $110\n",
            "3  199.0  $110 - $210\n",
            "4  549.0  $510 - $610\n"
          ]
        }
      ]
    },
    {
      "cell_type": "code",
      "source": [
        "#Box plot of price by neighborhood\n",
        "import seaborn as sns\n",
        "import matplotlib.pyplot as plt\n",
        "\n",
        "plt.figure(figsize=(12, 6))\n",
        "\n",
        "sns.boxplot(x='Neighborhood', y='price_bin', data=df)\n",
        "\n",
        "plt.title(\"Price Distribution by Neighborhood\")\n",
        "plt.xlabel(\"Neighborhood\")\n",
        "plt.ylabel(\"Price\")\n",
        "plt.xticks(rotation=45)\n",
        "\n",
        "plt.show()"
      ],
      "metadata": {
        "collapsed": true,
        "id": "4Qsg7JtV3IPf",
        "outputId": "7e58991b-72fd-4d5c-8c9c-f1f31781d03b",
        "colab": {
          "base_uri": "https://localhost:8080/",
          "height": 625
        }
      },
      "execution_count": 299,
      "outputs": [
        {
          "output_type": "display_data",
          "data": {
            "text/plain": [
              "<Figure size 1200x600 with 1 Axes>"
            ],
            "image/png": "[encoded data removed]"
          },
          "metadata": {}
        }
      ]
    },
    {
      "cell_type": "markdown",
      "source": [
        "significant amount of outliers in data set"
      ],
      "metadata": {
        "id": "8NmUBhRbE11o"
      }
    },
    {
      "cell_type": "code",
      "source": [
        "#remove bin variable from df, as that was just for the EDA Boxplot\n",
        "df= df.drop('price_bin', axis=1)\n",
        "#removing property type from data set to focus on better features\n",
        "df = df.drop('Property Type', axis=1)"
      ],
      "metadata": {
        "id": "s_sLTMhLLfnN"
      },
      "execution_count": 300,
      "outputs": []
    },
    {
      "cell_type": "markdown",
      "source": [
        "# 2. Transform your variables --- particularly categorical ones --- for use in your regression analysis."
      ],
      "metadata": {
        "id": "eg3q-WuPv2LU"
      }
    },
    {
      "cell_type": "code",
      "source": [
        "#Transform categorical variables using one-hot encoding\n",
        "df_transformed = pd.get_dummies(df, columns=['Neighborhood', 'Room Type'], drop_first=True)\n",
        "print(df_transformed.head())"
      ],
      "metadata": {
        "id": "PoKNMY4UhPb_",
        "outputId": "9748942a-1cad-4f84-9198-7af7e764e02d",
        "colab": {
          "base_uri": "https://localhost:8080/"
        }
      },
      "execution_count": 301,
      "outputs": [
        {
          "output_type": "stream",
          "name": "stdout",
          "text": [
            "   Zipcode  Beds  Price  Neighborhood_Brooklyn  Neighborhood_Manhattan  \\\n",
            "0  11249.0   1.0  145.0                   True                   False   \n",
            "1  11206.0   1.0   37.0                   True                   False   \n",
            "2  10032.0   1.0   28.0                  False                    True   \n",
            "3  10024.0   3.0  199.0                  False                    True   \n",
            "4  10036.0   3.0  549.0                  False                    True   \n",
            "\n",
            "   Neighborhood_Queens  Neighborhood_Staten Island  Room Type_Private room  \\\n",
            "0                False                       False                   False   \n",
            "1                False                       False                    True   \n",
            "2                False                       False                    True   \n",
            "3                False                       False                   False   \n",
            "4                False                       False                    True   \n",
            "\n",
            "   Room Type_Shared room  \n",
            "0                  False  \n",
            "1                  False  \n",
            "2                  False  \n",
            "3                  False  \n",
            "4                  False  \n"
          ]
        }
      ]
    },
    {
      "cell_type": "markdown",
      "source": [
        "# 3. Implement an ~80/~20 train-test split. Put the test data aside."
      ],
      "metadata": {
        "id": "awMzAFj3m8Do"
      }
    },
    {
      "cell_type": "code",
      "source": [
        "from sklearn.model_selection import train_test_split\n",
        "# Separate features (X) and target variable (y)\n",
        "X = df_transformed.drop(columns=['Price'])\n",
        "y = df_transformed['Price']\n",
        "\n",
        "#80/20 train-test split\n",
        "X_train, X_test, y_train, y_test = train_test_split(X, y, test_size=0.2, random_state=42)\n",
        "\n",
        "#checking shape of split data\n",
        "print(\"Training set size:\", X_train.shape)\n",
        "print(\"Testing set size:\", X_test.shape)"
      ],
      "metadata": {
        "id": "EC_r5WmJH9Hv",
        "outputId": "9b3eb94d-a729-4e38-ca80-c8ceb70eea68",
        "colab": {
          "base_uri": "https://localhost:8080/"
        }
      },
      "execution_count": 302,
      "outputs": [
        {
          "output_type": "stream",
          "name": "stdout",
          "text": [
            "Training set size: (24205, 8)\n",
            "Testing set size: (6052, 8)\n"
          ]
        }
      ]
    },
    {
      "cell_type": "markdown",
      "source": [
        "# 4. Build some simple linear models that include no transformations or interactions. Fit them, and determine their RMSE and R^2 on the both the training and test sets. Which of your models does the best?"
      ],
      "metadata": {
        "id": "V2w3N66Sm-4H"
      }
    },
    {
      "cell_type": "code",
      "source": [
        "from sklearn.linear_model import LinearRegression\n",
        "from sklearn.metrics import mean_squared_error, r2_score\n",
        "import numpy as np\n",
        "\n",
        "# Initialize the linear regression model\n",
        "model = LinearRegression()\n",
        "\n",
        "# Fit the model on the training data\n",
        "model.fit(X_train, y_train)\n",
        "\n",
        "# Predict on the training set\n",
        "y_train_pred = model.predict(X_train)\n",
        "\n",
        "# Predict on the test set\n",
        "y_test_pred = model.predict(X_test)\n",
        "\n",
        "# Calculate RMSE and R^2 for the training set\n",
        "train_rmse = np.sqrt(mean_squared_error(y_train, y_train_pred))\n",
        "train_r2 = r2_score(y_train, y_train_pred)\n",
        "\n",
        "# Calculate RMSE and R^2 for the test set\n",
        "test_rmse = np.sqrt(mean_squared_error(y_test, y_test_pred))\n",
        "test_r2 = r2_score(y_test, y_test_pred)\n",
        "\n",
        "# Display the results\n",
        "print(f\"Training Set RMSE: {train_rmse}\")\n",
        "print(f\"Training Set R^2: {train_r2}\")\n",
        "print(f\"Testing Set RMSE: {test_rmse}\")\n",
        "print(f\"Testing Set R^2: {test_r2}\")"
      ],
      "metadata": {
        "id": "aFT6HD26hKrj",
        "outputId": "56db02de-e32f-4bfc-d59e-31a46a7b8614",
        "colab": {
          "base_uri": "https://localhost:8080/"
        }
      },
      "execution_count": 303,
      "outputs": [
        {
          "output_type": "stream",
          "name": "stdout",
          "text": [
            "Training Set RMSE: 180.88521914938923\n",
            "Training Set R^2: 0.178903457910504\n",
            "Testing Set RMSE: 169.5467624661269\n",
            "Testing Set R^2: 0.1863371952572589\n"
          ]
        }
      ]
    },
    {
      "cell_type": "markdown",
      "source": [
        "From this analysis, both the training and testing set's Root Mean Square Error are high, indicating that there is a high level of error in its predicitions. The R^2 of both the training and testing sets are fairly low, indicating that the model is not capturing underlying relationships well. That being said, while neither models, were great the testing set was better.  "
      ],
      "metadata": {
        "id": "VFm9mh60h8OI"
      }
    },
    {
      "cell_type": "markdown",
      "source": [
        "# 5. Include transformations and interactions, and build a more complex model that reflects your ideas about how the features of the asset determine its value. Determine its RMSE and R^2 on the training and test sets. How does the more complex model your build compare to the simpler ones?"
      ],
      "metadata": {
        "id": "AU4OEDS6nFVl"
      }
    },
    {
      "cell_type": "code",
      "source": [
        "from sklearn.preprocessing import PolynomialFeatures, StandardScaler\n",
        "from sklearn.pipeline import Pipeline\n",
        "\n",
        "#Define the pipeline\n",
        "model = Pipeline([\n",
        "    (\"scaler\", StandardScaler()),  # Scale features\n",
        "    (\"poly\", PolynomialFeatures(degree=2, interaction_only=False)),  # Add polynomial terms and interactions\n",
        "    (\"regressor\", LinearRegression())  # Linear regression model\n",
        "])\n",
        "\n",
        "# Fit the model on the training data\n",
        "model.fit(X_train, y_train)\n",
        "\n",
        "# Make predictions on the training and test data\n",
        "y_train_pred = model.predict(X_train)\n",
        "y_test_pred = model.predict(X_test)\n",
        "\n",
        "# Calculate RMSE and R^2 for the training set\n",
        "train_rmse = np.sqrt(mean_squared_error(y_train, y_train_pred))\n",
        "train_r2 = r2_score(y_train, y_train_pred)\n",
        "\n",
        "# Calculate RMSE and R^2 for the test set\n",
        "test_rmse = np.sqrt(mean_squared_error(y_test, y_test_pred))\n",
        "test_r2 = r2_score(y_test, y_test_pred)\n",
        "\n",
        "# Display results\n",
        "print(f\"Training Set RMSE: {train_rmse}\")\n",
        "print(f\"Training Set R^2: {train_r2}\")\n",
        "print(f\"Testing Set RMSE: {test_rmse}\")\n",
        "print(f\"Testing Set R^2: {test_r2}\")\n"
      ],
      "metadata": {
        "id": "YxksgzLZzDoX",
        "outputId": "70d2e0d0-4264-4fa4-9af6-2aff610961e6",
        "colab": {
          "base_uri": "https://localhost:8080/"
        }
      },
      "execution_count": 304,
      "outputs": [
        {
          "output_type": "stream",
          "name": "stdout",
          "text": [
            "Training Set RMSE: 178.87054637867996\n",
            "Training Set R^2: 0.19709210271504596\n",
            "Testing Set RMSE: 205.92655635779107\n",
            "Testing Set R^2: -0.20030101926708888\n"
          ]
        }
      ]
    },
    {
      "cell_type": "markdown",
      "source": [
        "The outputs from this complex model indicate that the model is overfitting, as there is a significant discrepancy between the training and testing results. The training set RMSE and R^2 are improved from the previous model, however more adjustment needs to be done to improve the model's fit. Outliars in price seen in the EDA indicate that the use of a different model, such as RANSAC, may be helpful as it is less suceptible to outliars.  "
      ],
      "metadata": {
        "id": "gLK0bw1z7iOs"
      }
    },
    {
      "cell_type": "code",
      "source": [
        "import numpy as np\n",
        "import pandas as pd\n",
        "from sklearn.linear_model import RANSACRegressor, LinearRegression\n",
        "from sklearn.metrics import mean_squared_error, r2_score\n",
        "from sklearn.model_selection import train_test_split\n",
        "import matplotlib.pyplot as plt\n",
        "\n",
        "# Initialize the base linear regression model\n",
        "base_model = LinearRegression()\n",
        "\n",
        "# Initialize the RANSAC regressor with the base model\n",
        "ransac = RANSACRegressor(base_model, random_state=42)\n",
        "\n",
        "# Fit the RANSAC model on the training data\n",
        "ransac.fit(X_train, y_train)\n",
        "\n",
        "# Predict on the training set\n",
        "y_train_pred = ransac.predict(X_train)\n",
        "\n",
        "# Predict on the test set\n",
        "y_test_pred = ransac.predict(X_test)\n",
        "\n",
        "# Calculate RMSE and R^2 for the training set\n",
        "train_rmse = np.sqrt(mean_squared_error(y_train, y_train_pred))\n",
        "train_r2 = r2_score(y_train, y_train_pred)\n",
        "\n",
        "# Calculate RMSE and R^2 for the test set\n",
        "test_rmse = np.sqrt(mean_squared_error(y_test, y_test_pred))\n",
        "test_r2 = r2_score(y_test, y_test_pred)\n",
        "\n",
        "# Display results\n",
        "print(f\"RANSAC Model Training Set RMSE: {train_rmse}\")\n",
        "print(f\"RANSAC Model Training Set R^2: {train_r2}\")\n",
        "print(f\"RANSAC Model Testing Set RMSE: {test_rmse}\")\n",
        "print(f\"RANSAC Model Testing Set R^2: {test_r2}\")\n",
        "\n",
        "# Optional: Visualize the results\n",
        "plt.figure(figsize=(12, 6))\n",
        "\n",
        "# Plot predictions vs actual for the test set\n",
        "plt.scatter(y_test, y_test_pred, alpha=0.5)\n",
        "plt.xlabel('Actual Prices')\n",
        "plt.ylabel('Predicted Prices')\n",
        "plt.title('RANSAC Regression: Actual vs Predicted Prices')\n",
        "plt.plot([min(y_test), max(y_test)], [min(y_test), max(y_test)], color='red', linewidth=2)  # Diagonal line\n",
        "plt.show()\n"
      ],
      "metadata": {
        "id": "BgN-bnNd9Yn6",
        "outputId": "ce3aee46-8f13-41ab-e7a3-a12824e8837d",
        "colab": {
          "base_uri": "https://localhost:8080/",
          "height": 635
        }
      },
      "execution_count": 305,
      "outputs": [
        {
          "output_type": "stream",
          "name": "stdout",
          "text": [
            "RANSAC Model Training Set RMSE: 194.40245567524008\n",
            "RANSAC Model Training Set R^2: 0.05159997750775602\n",
            "RANSAC Model Testing Set RMSE: 196.24682330038635\n",
            "RANSAC Model Testing Set R^2: -0.0901110245173653\n"
          ]
        },
        {
          "output_type": "display_data",
          "data": {
            "text/plain": [
              "<Figure size 1200x600 with 1 Axes>"
            ],
            "image/png": "[encoded data removed]"
          },
          "metadata": {}
        }
      ]
    },
    {
      "cell_type": "markdown",
      "source": [
        "Use of RANSAC did not improve modeling, but rather made it worse. In the future, more steps need to be taken in EDA to minimize outliars."
      ],
      "metadata": {
        "id": "Q80ex6w7AihL"
      }
    },
    {
      "cell_type": "markdown",
      "source": [
        "# 6. Summarize your results from 1 to 5. Have you learned anything about overfitting and underfitting, or model selection?\n"
      ],
      "metadata": {
        "id": "SMXCK_YenKs6"
      }
    },
    {
      "cell_type": "markdown",
      "source": [
        "From this lab, I have learned how difficult it is to find the right linear regression model for a data set. It is a process of trial and error, however my codes were still generally unsucessful in getting an accurate prediction. My R^2s in the initial simple linear regression were low, indicating that relationships were not captured and the data was underfit. When I tried to correct this through my next code, the model was significantly worse, and overfit to the training data. I attempted using the RANSAC method, which chatgbt suggested could be helpful in reducing influence of outliars, however the model fit worse than my simple linear regression. I have learned that it is a push and pull trying to balence over and underfitting. More steps should have been taken in data cleaning and EDA to account for outliars prior to analysis."
      ],
      "metadata": {
        "id": "7qDi2Zs5Cc8p"
      }
    },
    {
      "cell_type": "markdown",
      "source": [
        "# 7. If you have time, use the sklearn.linear_model.Lasso to regularize your model and select the most predictive features. Which does it select? What are the RMSE and R^2?"
      ],
      "metadata": {
        "id": "Cn6uAtkbI5xk"
      }
    },
    {
      "cell_type": "code",
      "source": [
        "from sklearn.linear_model import Lasso\n",
        "# Initialize the Lasso regression model\n",
        "lasso_model = Lasso(alpha=0.5, random_state=42)\n",
        "\n",
        "# Fit the model on the training data\n",
        "lasso_model.fit(X_train, y_train)\n",
        "\n",
        "# Predict on the training set\n",
        "y_train_pred = lasso_model.predict(X_train)\n",
        "\n",
        "# Predict on the test set\n",
        "y_test_pred = lasso_model.predict(X_test)\n",
        "\n",
        "# Calculate RMSE and R² for the training set\n",
        "train_rmse = np.sqrt(mean_squared_error(y_train, y_train_pred))\n",
        "train_r2 = r2_score(y_train, y_train_pred)\n",
        "\n",
        "# Calculate RMSE and R² for the test set\n",
        "test_rmse = np.sqrt(mean_squared_error(y_test, y_test_pred))\n",
        "test_r2 = r2_score(y_test, y_test_pred)\n",
        "\n",
        "# Display results\n",
        "print(f\"Lasso Model Training Set RMSE: {train_rmse}\")\n",
        "print(f\"Lasso Model Training Set R^2: {train_r2}\")\n",
        "print(f\"Lasso Model Testing Set RMSE: {test_rmse}\")\n",
        "print(f\"Lasso Model Testing Set R^2: {test_r2}\")\n",
        "\n",
        "# Get the coefficients and the selected features\n",
        "selected_features = np.where(lasso_model.coef_ != 0)[0]\n",
        "print(\"Selected Features (Indices):\", selected_features)\n",
        "print(\"Selected Features (Names):\", X_train.columns[selected_features])"
      ],
      "metadata": {
        "id": "o3sVyh_6JDy1",
        "outputId": "0a66618f-32f9-475c-d934-8b405feb6b9a",
        "colab": {
          "base_uri": "https://localhost:8080/"
        }
      },
      "execution_count": 307,
      "outputs": [
        {
          "output_type": "stream",
          "name": "stdout",
          "text": [
            "Lasso Model Training Set RMSE: 180.9408203203335\n",
            "Lasso Model Training Set R^2: 0.17839859691577586\n",
            "Lasso Model Testing Set RMSE: 169.57138503887236\n",
            "Lasso Model Testing Set R^2: 0.18610084835130536\n",
            "Selected Features (Indices): [0 1 3 4 6 7]\n",
            "Selected Features (Names): Index(['Zipcode', 'Beds', 'Neighborhood_Manhattan', 'Neighborhood_Queens',\n",
            "       'Room Type_Private room', 'Room Type_Shared room'],\n",
            "      dtype='object')\n"
          ]
        }
      ]
    },
    {
      "cell_type": "markdown",
      "source": [
        "It selected Zipcode, Beds, Manhattan, Queens, and whether or not a room was public or private as features that effect the price. Considering this makes up a majority of the variables, more regulation is needed to narrow down the most predictive features. The RMSE for the training set, as well as the testing set, are still high indicating it is not fitting well. the R^2 for both are about 18%, which is still fairly poor."
      ],
      "metadata": {
        "id": "TUtIhvdaJq6I"
      }
    }
  ]
}